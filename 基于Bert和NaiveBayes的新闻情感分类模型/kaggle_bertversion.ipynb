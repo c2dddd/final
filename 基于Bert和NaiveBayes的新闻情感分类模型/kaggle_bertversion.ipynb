{
 "metadata": {
  "kernelspec": {
   "language": "python",
   "display_name": "Python 3",
   "name": "python3"
  },
  "language_info": {
   "name": "python",
   "version": "3.7.10",
   "mimetype": "text/x-python",
   "codemirror_mode": {
    "name": "ipython",
    "version": 3
   },
   "pygments_lexer": "ipython3",
   "nbconvert_exporter": "python",
   "file_extension": ".py"
  }
 },
 "nbformat_minor": 4,
 "nbformat": 4,
 "cells": [
  {
   "cell_type": "code",
   "execution_count": 1,
   "source": [
    "# This Python 3 environment comes with many helpful analytics libraries installed\n",
    "# It is defined by the kaggle/python Docker image: https://github.com/kaggle/docker-python\n",
    "# For example, here's several helpful packages to load\n",
    "\n",
    "import numpy as np # linear algebra\n",
    "import pandas as pd # data processing, CSV file I/O (e.g. pd.read_csv)\n",
    "\n",
    "# Input data files are available in the read-only \"../input/\" directory\n",
    "# For example, running this (by clicking run or pressing Shift+Enter) will list all files under the input directory\n",
    "\n",
    "import os\n",
    "for dirname, _, filenames in os.walk('/kaggle/input'):\n",
    "    for filename in filenames:\n",
    "        print(os.path.join(dirname, filename))\n",
    "\n",
    "# You can write up to 20GB to the current directory (/kaggle/working/) that gets preserved as output when you create a version using \"Save & Run All\" \n",
    "# You can also write temporary files to /kaggle/temp/, but they won't be saved outside of the current session"
   ],
   "outputs": [
    {
     "name": "stderr",
     "output_type": "stream",
     "text": [
      "C:\\ProgramData\\Anaconda3\\envs\\py38\\lib\\site-packages\\numpy\\_distributor_init.py:30: UserWarning: loaded more than 1 DLL from .libs:\n",
      "C:\\ProgramData\\Anaconda3\\envs\\py38\\lib\\site-packages\\numpy\\.libs\\libopenblas.FB5AE2TYXYH2IJRDKGDGQ3XBKLKTF43H.gfortran-win_amd64.dll\n",
      "C:\\ProgramData\\Anaconda3\\envs\\py38\\lib\\site-packages\\numpy\\.libs\\libopenblas64__v0.3.21-gcc_10_3_0.dll\n",
      "  warnings.warn(\"loaded more than 1 DLL from .libs:\"\n"
     ]
    }
   ],
   "metadata": {
    "_uuid": "8f2839f25d086af736a60e9eeb907d3b93b6e0e5",
    "_cell_guid": "b1076dfc-b9ad-4769-8c92-a6c4dae69d19",
    "execution": {
     "iopub.status.busy": "2021-11-26T10:02:56.153316Z",
     "iopub.execute_input": "2021-11-26T10:02:56.153844Z",
     "iopub.status.idle": "2021-11-26T10:02:56.174931Z",
     "shell.execute_reply.started": "2021-11-26T10:02:56.153805Z",
     "shell.execute_reply": "2021-11-26T10:02:56.174141Z"
    },
    "trusted": true,
    "ExecuteTime": {
     "end_time": "2024-03-07T11:53:49.756408900Z",
     "start_time": "2024-03-07T11:53:49.196754900Z"
    }
   }
  },
  {
   "cell_type": "code",
   "execution_count": 4,
   "source": [
    "import re\n",
    "dataset=pd.read_csv(\"/kaggle/input/train-news/train.csv\")\n",
    "dataset.columns=['id','content','comment_all','label']\n",
    "dataset=dataset.set_index('id')\n",
    "test=pd.read_csv(\"/kaggle/input/train-news/test.csv\")\n",
    "test.columns=['id','content','comment_all']\n",
    "test=test.set_index('id')\n",
    "testset=test\n"
   ],
   "outputs": [],
   "metadata": {
    "execution": {
     "iopub.status.busy": "2021-11-26T10:02:56.176557Z",
     "iopub.execute_input": "2021-11-26T10:02:56.176807Z",
     "iopub.status.idle": "2021-11-26T10:02:57.511483Z",
     "shell.execute_reply.started": "2021-11-26T10:02:56.176774Z",
     "shell.execute_reply": "2021-11-26T10:02:57.510744Z"
    },
    "trusted": true
   }
  },
  {
   "cell_type": "code",
   "execution_count": 5,
   "source": [
    "import jieba\n",
    "def clear(text)->str:\n",
    "    #print(re.findall('[\\u4E00-\\u9FFF]+|\\d',text))\n",
    "    if type(text) is float:return \n",
    "    str1=\"\"\n",
    "    str2=str1.join(text)\n",
    "    y=lambda x:re.findall('[\\u4E00-\\u9FFF]+',x)\n",
    "    li=y(str2)\n",
    "    for i in range(len(li)):\n",
    "        li[i]=list(jieba.cut(li[i]))\n",
    "    li2=[]\n",
    "    for subli in li:\n",
    "        for item in subli:\n",
    "            li2.append(item)\n",
    "    return li2\n",
    "text='正则365表达\\t式ds匹配/--*测\\t试文字'\n",
    "a=clear(dataset.loc[9982,'content'])\n",
    "b=clear(dataset.loc[9984,'comment_all'])\n",
    "c=clear(testset.loc[9979,'content'])\n",
    "for index,row in dataset.iterrows():\n",
    "    dataset.at[index,'content']=clear(dataset.at[index,'content'])\n",
    "    dataset.at[index,'comment_all']=clear(dataset.at[index,'comment_all'])\n",
    "\n",
    "\n"
   ],
   "outputs": [],
   "metadata": {
    "execution": {
     "iopub.status.busy": "2021-11-26T10:02:57.513084Z",
     "iopub.execute_input": "2021-11-26T10:02:57.513580Z",
     "iopub.status.idle": "2021-11-26T10:04:04.394765Z",
     "shell.execute_reply.started": "2021-11-26T10:02:57.513542Z",
     "shell.execute_reply": "2021-11-26T10:04:04.394049Z"
    },
    "trusted": true
   }
  },
  {
   "cell_type": "code",
   "execution_count": 6,
   "source": [
    "dataset"
   ],
   "outputs": [],
   "metadata": {
    "execution": {
     "iopub.status.busy": "2021-11-26T10:04:04.396691Z",
     "iopub.execute_input": "2021-11-26T10:04:04.396947Z",
     "iopub.status.idle": "2021-11-26T10:04:04.424771Z",
     "shell.execute_reply.started": "2021-11-26T10:04:04.396913Z",
     "shell.execute_reply": "2021-11-26T10:04:04.423984Z"
    },
    "trusted": true
   }
  },
  {
   "cell_type": "code",
   "execution_count": 7,
   "source": [
    "dataset2=[]\n",
    "for index,row in dataset.iterrows():\n",
    "    str2=\" \"\n",
    "    if dataset.loc[index,'comment_all']is None:\n",
    "        dataset2.append(dataset.loc[index,'content'])\n",
    "    else:\n",
    "        dataset2.append(dataset.loc[index,'content']+dataset.loc[index,'comment_all'])\n",
    "for index,row in testset.iterrows():\n",
    "    testset.at[index,'content']=clear(testset.at[index,'content'])\n",
    "    testset.at[index,'comment_all']=clear(testset.at[index,'comment_all'])"
   ],
   "outputs": [],
   "metadata": {
    "execution": {
     "iopub.status.busy": "2021-11-26T10:04:04.426224Z",
     "iopub.execute_input": "2021-11-26T10:04:04.426473Z",
     "iopub.status.idle": "2021-11-26T10:04:23.623895Z",
     "shell.execute_reply.started": "2021-11-26T10:04:04.426437Z",
     "shell.execute_reply": "2021-11-26T10:04:23.623193Z"
    },
    "trusted": true
   }
  },
  {
   "cell_type": "code",
   "execution_count": 8,
   "source": [
    "dataset.to_pickle('split_dataset')\n",
    "testset.to_pickle('split_testset')"
   ],
   "outputs": [],
   "metadata": {
    "execution": {
     "iopub.status.busy": "2021-11-26T10:04:23.625055Z",
     "iopub.execute_input": "2021-11-26T10:04:23.625346Z",
     "iopub.status.idle": "2021-11-26T10:04:26.089266Z",
     "shell.execute_reply.started": "2021-11-26T10:04:23.625310Z",
     "shell.execute_reply": "2021-11-26T10:04:26.088468Z"
    },
    "trusted": true
   }
  },
  {
   "cell_type": "code",
   "execution_count": 9,
   "source": [
    "import pickle\n",
    "dataset=open('split_dataset','rb')\n",
    "dataset=pickle.load(dataset)\n",
    "testset=open('split_testset','rb')\n",
    "testset=pickle.load(testset)"
   ],
   "outputs": [],
   "metadata": {
    "execution": {
     "iopub.status.busy": "2021-11-26T10:04:26.090677Z",
     "iopub.execute_input": "2021-11-26T10:04:26.090966Z",
     "iopub.status.idle": "2021-11-26T10:04:27.900308Z",
     "shell.execute_reply.started": "2021-11-26T10:04:26.090926Z",
     "shell.execute_reply": "2021-11-26T10:04:27.899496Z"
    },
    "trusted": true
   }
  },
  {
   "cell_type": "code",
   "execution_count": 10,
   "source": [
    "def label_get(dataset):\n",
    "    labelset=[]\n",
    "    for index,row in dataset.iterrows():\n",
    "        labelset.append(dataset.loc[index,'label'])\n",
    "    return labelset\n",
    "\n",
    "labelset=label_get(dataset)\n",
    "def pd_li_transform(dataset):\n",
    "    dataset_list=[]\n",
    "    for index,row in dataset.iterrows():\n",
    "        str2=\" \"\n",
    "        if dataset.loc[index,'comment_all']is None:\n",
    "            dataset_list.append(dataset.loc[index,'content'])\n",
    "        else:\n",
    "            dataset_list.append(dataset.loc[index,'content']+dataset.loc[index,'comment_all'])\n",
    "    return dataset_list\n",
    "testset_list=pd_li_transform(testset)\n",
    "dataset_list=pd_li_transform(dataset)\n",
    "def list_deal(dataset,labelset):\n",
    "    labelset2=[]\n",
    "    dataset2=[]\n",
    "    for i in range(len(dataset)):\n",
    "        if (dataset[i]!=[]):\n",
    "            dataset2.append(dataset[i])\n",
    "            labelset2.append(labelset[i])\n",
    "    return dataset2,labelset2\n",
    "dataset_list,labelset=list_deal(dataset_list,labelset)\n",
    "def list_onehot(labelset):\n",
    "    newli=[]\n",
    "    for index in labelset:\n",
    "        if (index==-1):newli.append([-1.0,0.0,0.0])\n",
    "        if (index==0):newli.append([0.0,-1.0,0.0])\n",
    "        if (index==1):newli.append([0.0,0.0,-1.0])\n",
    "    return newli\n",
    "def list_float(labelset):\n",
    "    newli=[]\n",
    "    for index in labelset:\n",
    "        if (index==-1):newli.append(0.0)\n",
    "        if (index==0):newli.append(1.0)\n",
    "        if (index==1):newli.append(2.0)\n",
    "    return newli\n",
    "labelset3=list_float(labelset)\n",
    "labelset2=list_onehot(labelset)\n",
    "def li_str_transform(dataset_list):\n",
    "    dataset2=[]\n",
    "    for seq in dataset_list:\n",
    "        str1=' '.join(seq)\n",
    "        dataset2.append(str1)\n",
    "    return dataset2\n",
    "dataset_str=li_str_transform(dataset_list)\n",
    "testset_str=li_str_transform(testset_list)\n"
   ],
   "outputs": [],
   "metadata": {
    "execution": {
     "iopub.status.busy": "2021-11-26T10:04:27.901803Z",
     "iopub.execute_input": "2021-11-26T10:04:27.902061Z",
     "iopub.status.idle": "2021-11-26T10:04:34.918782Z",
     "shell.execute_reply.started": "2021-11-26T10:04:27.902022Z",
     "shell.execute_reply": "2021-11-26T10:04:34.917963Z"
    },
    "trusted": true
   }
  },
  {
   "cell_type": "code",
   "execution_count": 14,
   "source": [
    "from fastNLP import DataSet\n",
    "data_init=DataSet({'raw_chars':dataset_list,'target':labelset})\n",
    "data_train=data_init[:30000]\n",
    "data_validation=data_init[30001:35000]\n",
    "data_test=DataSet({'raw_chars':testset_list})\n",
    "from fastNLP import Vocabulary\n",
    "vocab=Vocabulary()\n",
    "vocab.from_dataset(data_train,field_name='raw_chars',no_create_entry_dataset=[data_validation])\n",
    "vocab.index_dataset(data_train,field_name='raw_chars')\n",
    "vocab.index_dataset(data_validation,field_name='raw_chars')\n",
    "vocab.index_dataset(data_test,field_name='raw_chars')\n",
    "target_vocab=Vocabulary(padding=None,unknown=None)\n",
    "target_vocab.from_dataset(data_train,field_name='target')\n",
    "target_vocab.index_dataset(data_train,field_name='target')\n",
    "target_vocab.index_dataset(data_validation,field_name='target')"
   ],
   "outputs": [],
   "metadata": {
    "execution": {
     "iopub.status.busy": "2021-11-26T10:07:29.450968Z",
     "iopub.execute_input": "2021-11-26T10:07:29.451676Z",
     "iopub.status.idle": "2021-11-26T10:07:48.910848Z",
     "shell.execute_reply.started": "2021-11-26T10:07:29.451640Z",
     "shell.execute_reply": "2021-11-26T10:07:48.910084Z"
    },
    "trusted": true
   }
  },
  {
   "cell_type": "code",
   "execution_count": 12,
   "source": [
    "pip install fastnlp"
   ],
   "outputs": [],
   "metadata": {
    "execution": {
     "iopub.status.busy": "2021-11-26T10:07:09.541995Z",
     "iopub.execute_input": "2021-11-26T10:07:09.542268Z",
     "iopub.status.idle": "2021-11-26T10:07:21.000530Z",
     "shell.execute_reply.started": "2021-11-26T10:07:09.542237Z",
     "shell.execute_reply": "2021-11-26T10:07:20.999609Z"
    },
    "trusted": true
   }
  },
  {
   "cell_type": "code",
   "execution_count": null,
   "source": [
    "data_train"
   ],
   "outputs": [],
   "metadata": {
    "execution": {
     "iopub.status.busy": "2021-11-26T10:04:34.943392Z",
     "iopub.status.idle": "2021-11-26T10:04:34.943929Z",
     "shell.execute_reply.started": "2021-11-26T10:04:34.943694Z",
     "shell.execute_reply": "2021-11-26T10:04:34.943721Z"
    },
    "trusted": true
   }
  },
  {
   "cell_type": "code",
   "execution_count": 15,
   "source": [
    "data_train.rename_field('raw_chars','words')\n",
    "data_validation.rename_field('raw_chars','words')\n",
    "data_train.set_input('words')\n",
    "data_train.set_target('target')\n",
    "data_validation.set_input('words')\n",
    "data_validation.set_target('target')\n"
   ],
   "outputs": [],
   "metadata": {
    "execution": {
     "iopub.status.busy": "2021-11-26T10:07:48.912556Z",
     "iopub.execute_input": "2021-11-26T10:07:48.912895Z",
     "iopub.status.idle": "2021-11-26T10:07:48.923915Z",
     "shell.execute_reply.started": "2021-11-26T10:07:48.912857Z",
     "shell.execute_reply": "2021-11-26T10:07:48.923065Z"
    },
    "trusted": true
   }
  },
  {
   "cell_type": "code",
   "execution_count": null,
   "source": [
    "print(len(data_test))"
   ],
   "outputs": [],
   "metadata": {
    "execution": {
     "iopub.status.busy": "2021-11-26T10:04:34.947846Z",
     "iopub.status.idle": "2021-11-26T10:04:34.948410Z",
     "shell.execute_reply.started": "2021-11-26T10:04:34.948166Z",
     "shell.execute_reply": "2021-11-26T10:04:34.948203Z"
    },
    "trusted": true
   }
  },
  {
   "cell_type": "code",
   "execution_count": 17,
   "source": [
    "import torch\n",
    "from fastNLP.embeddings import BertEmbedding\n",
    "from fastNLP import Vocabulary\n",
    "embed=BertEmbedding(vocab,model_dir_or_name='cn-wwm', include_cls_sep=True,auto_truncate=True)\n",
    "from fastNLP.models import BertForSequenceClassification\n",
    "model = BertForSequenceClassification(embed,num_labels=3)"
   ],
   "outputs": [],
   "metadata": {
    "execution": {
     "iopub.status.busy": "2021-11-26T10:09:14.843743Z",
     "iopub.execute_input": "2021-11-26T10:09:14.844128Z",
     "iopub.status.idle": "2021-11-26T10:09:18.651874Z",
     "shell.execute_reply.started": "2021-11-26T10:09:14.844093Z",
     "shell.execute_reply": "2021-11-26T10:09:18.651099Z"
    },
    "trusted": true
   }
  },
  {
   "cell_type": "code",
   "execution_count": 19,
   "source": [
    "from fastNLP import Trainer, CrossEntropyLoss, AccuracyMetric, Adam\n",
    "device = 0 if torch.cuda.is_available() else 'cpu'\n",
    "print(device)\n",
    "trainer = Trainer(data_train, model,\n",
    "                  optimizer=Adam(model_params=model.parameters(), lr=2e-5),\n",
    "                  loss=CrossEntropyLoss(), device=device,\n",
    "                  batch_size=8,dev_data=data_validation,\n",
    "                  metrics=AccuracyMetric(), n_epochs=5, print_every=1)\n",
    "trainer.train()"
   ],
   "outputs": [],
   "metadata": {
    "execution": {
     "iopub.status.busy": "2021-11-26T10:11:20.422440Z",
     "iopub.execute_input": "2021-11-26T10:11:20.422875Z",
     "iopub.status.idle": "2021-11-26T12:24:52.667873Z",
     "shell.execute_reply.started": "2021-11-26T10:11:20.422835Z",
     "shell.execute_reply": "2021-11-26T12:24:52.667208Z"
    },
    "trusted": true
   }
  },
  {
   "cell_type": "code",
   "execution_count": null,
   "source": [],
   "outputs": [],
   "metadata": {
    "trusted": true
   }
  },
  {
   "cell_type": "code",
   "execution_count": 21,
   "source": [
    "def batch_predict(model,data,device):\n",
    "    submission=pd.DataFrame(columns=['Prediction'])\n",
    "#    submission = pd.DataFrame(columns=['ID','Prediction'])\n",
    "    submission=[]\n",
    "    for i in range(len(data)):\n",
    "    #for i in range(5):\n",
    "#         print(data.words[i])\n",
    "        if (i%100==0):print(f\"第{i}次预测完成。\")\n",
    "        model=model.to(device)\n",
    "        tensor = torch.tensor(data['raw_chars'][i]).to(device)\n",
    "        pred = model.predict(tensor.view(1,-1))\n",
    "        prob = pred['pred'].cpu().numpy()[0]\n",
    "        submission.append(prob)\n",
    "    return submission\n",
    "submission=batch_predict(model,data_test,device)\n"
   ],
   "outputs": [],
   "metadata": {
    "execution": {
     "iopub.status.busy": "2021-11-26T12:37:10.255015Z",
     "iopub.execute_input": "2021-11-26T12:37:10.255284Z",
     "iopub.status.idle": "2021-11-26T12:40:16.724132Z",
     "shell.execute_reply.started": "2021-11-26T12:37:10.255252Z",
     "shell.execute_reply": "2021-11-26T12:40:16.723442Z"
    },
    "trusted": true
   }
  },
  {
   "cell_type": "code",
   "execution_count": 23,
   "source": [
    "submission2=[]\n",
    "for i in range(len(submission)):\n",
    "    if(submission[i]==2):submission2.append(0)\n",
    "    elif(submission[i]==0):submission2.append(1)\n",
    "    elif(submission[i]==1):submission2.append(-1)\n",
    "    else:submission2.append(submission[i])\n",
    "\n",
    "np.savetxt('/kaggle/working/bert.txt',submission2,fmt='%d',delimiter='\\n')\n",
    "print(\"OK\")"
   ],
   "outputs": [],
   "metadata": {
    "execution": {
     "iopub.status.busy": "2021-11-26T12:46:54.662581Z",
     "iopub.execute_input": "2021-11-26T12:46:54.662839Z",
     "iopub.status.idle": "2021-11-26T12:46:54.701620Z",
     "shell.execute_reply.started": "2021-11-26T12:46:54.662809Z",
     "shell.execute_reply": "2021-11-26T12:46:54.700839Z"
    },
    "trusted": true
   }
  },
  {
   "cell_type": "code",
   "execution_count": null,
   "source": [],
   "outputs": [],
   "metadata": {
    "trusted": true
   }
  },
  {
   "cell_type": "code",
   "execution_count": null,
   "source": [],
   "outputs": [],
   "metadata": {
    "trusted": true
   }
  }
 ]
}
