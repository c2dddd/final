{
 "metadata": {
  "kernelspec": {
   "name": "python3",
   "language": "python",
   "display_name": "Python 3 (ipykernel)"
  },
  "language_info": {
   "name": "python",
   "version": "3.9.7",
   "mimetype": "text/x-python",
   "codemirror_mode": {
    "name": "ipython",
    "version": 3
   },
   "pygments_lexer": "ipython3",
   "nbconvert_exporter": "python",
   "file_extension": ".py"
  },
  "interpreter": {
   "hash": "cc5f70855ac006f3de45a3cc3b9e7d8d53845e50458809cb162b0174266dec97"
  }
 },
 "nbformat_minor": 4,
 "nbformat": 4,
 "cells": [
  {
   "cell_type": "markdown",
   "source": [
    "数据预处理部分，直接运行就可以，只需要修改路径即可"
   ],
   "metadata": {}
  },
  {
   "cell_type": "code",
   "execution_count": 1,
   "source": [
    "import numpy as np\n",
    "from dataload import preprocess\n",
    "pre=preprocess()\n",
    "dataset,testset=pre.preprocessingdata_news()"
   ],
   "outputs": [
    {
     "name": "stderr",
     "output_type": "stream",
     "text": [
      "C:\\ProgramData\\Anaconda3\\envs\\py38\\lib\\site-packages\\numpy\\_distributor_init.py:30: UserWarning: loaded more than 1 DLL from .libs:\n",
      "C:\\ProgramData\\Anaconda3\\envs\\py38\\lib\\site-packages\\numpy\\.libs\\libopenblas.FB5AE2TYXYH2IJRDKGDGQ3XBKLKTF43H.gfortran-win_amd64.dll\n",
      "C:\\ProgramData\\Anaconda3\\envs\\py38\\lib\\site-packages\\numpy\\.libs\\libopenblas64__v0.3.21-gcc_10_3_0.dll\n",
      "  warnings.warn(\"loaded more than 1 DLL from .libs:\"\n"
     ]
    },
    {
     "name": "stdout",
     "output_type": "stream",
     "text": [
      "正在数据集删除空数据并分词....\n"
     ]
    },
    {
     "name": "stderr",
     "output_type": "stream",
     "text": [
      "Building prefix dict from the default dictionary ...\n",
      "Loading model from cache C:\\Users\\14433\\AppData\\Local\\Temp\\jieba.cache\n",
      "Loading model cost 0.474 seconds.\n",
      "Prefix dict has been built successfully.\n"
     ]
    },
    {
     "name": "stdout",
     "output_type": "stream",
     "text": [
      "正在删除测试集空数据并分词....\n"
     ]
    }
   ],
   "metadata": {
    "execution": {
     "iopub.status.busy": "2021-11-26T10:04:26.090677Z",
     "iopub.execute_input": "2021-11-26T10:04:26.090966Z",
     "iopub.status.idle": "2021-11-26T10:04:27.900308Z",
     "shell.execute_reply.started": "2021-11-26T10:04:26.090926Z",
     "shell.execute_reply": "2021-11-26T10:04:27.899496Z"
    },
    "trusted": true,
    "ExecuteTime": {
     "end_time": "2024-03-07T12:52:56.481826900Z",
     "start_time": "2024-03-07T12:51:53.552387300Z"
    }
   }
  },
  {
   "cell_type": "code",
   "execution_count": 2,
   "source": [
    "dataset_list,labelset,testset_list=pre.processingbert(dataset,testset)"
   ],
   "outputs": [],
   "metadata": {
    "execution": {
     "iopub.status.busy": "2021-11-26T10:04:27.901803Z",
     "iopub.execute_input": "2021-11-26T10:04:27.902061Z",
     "iopub.status.idle": "2021-11-26T10:04:34.918782Z",
     "shell.execute_reply.started": "2021-11-26T10:04:27.902022Z",
     "shell.execute_reply": "2021-11-26T10:04:34.917963Z"
    },
    "trusted": true,
    "ExecuteTime": {
     "end_time": "2024-03-07T12:54:34.292163800Z",
     "start_time": "2024-03-07T12:54:29.137611500Z"
    }
   }
  },
  {
   "cell_type": "code",
   "execution_count": 11,
   "source": [
    "from fastNLP import DataSet\n",
    "data_init=DataSet({'raw_chars':dataset_list,'target':labelset})\n",
    "data_train=data_init[:30000]\n",
    "data_validation=data_init[30001:35000]\n",
    "data_test=DataSet({'raw_chars':testset_list})\n",
    "from fastNLP import Vocabulary\n",
    "vocab=Vocabulary()\n",
    "vocab.from_dataset(data_train,field_name='raw_chars',no_create_entry_dataset=[data_validation])\n",
    "vocab.index_dataset(data_train,field_name='raw_chars')\n",
    "vocab.index_dataset(data_validation,field_name='raw_chars')\n",
    "vocab.index_dataset(data_test,field_name='raw_chars')\n",
    "target_vocab=Vocabulary(padding=None,unknown=None)\n",
    "target_vocab.from_dataset(data_train,field_name='target')\n",
    "target_vocab.index_dataset(data_train,field_name='target')\n",
    "target_vocab.index_dataset(data_validation,field_name='target')"
   ],
   "outputs": [
    {
     "data": {
      "text/plain": "Vocabulary([0, -1, 1]...)"
     },
     "execution_count": 11,
     "metadata": {},
     "output_type": "execute_result"
    }
   ],
   "metadata": {
    "execution": {
     "iopub.status.busy": "2021-11-26T10:07:29.450968Z",
     "iopub.execute_input": "2021-11-26T10:07:29.451676Z",
     "iopub.status.idle": "2021-11-26T10:07:48.910848Z",
     "shell.execute_reply.started": "2021-11-26T10:07:29.451640Z",
     "shell.execute_reply": "2021-11-26T10:07:48.910084Z"
    },
    "trusted": true,
    "ExecuteTime": {
     "end_time": "2024-03-07T12:59:07.672434Z",
     "start_time": "2024-03-07T12:58:56.622002800Z"
    }
   }
  },
  {
   "cell_type": "code",
   "execution_count": 13,
   "source": [
    "data_train.rename_field('raw_chars','words')\n",
    "data_validation.rename_field('raw_chars','words')\n",
    "data_train.set_input('words')\n",
    "data_train.set_target('target')\n",
    "data_validation.set_input('words')\n",
    "data_validation.set_target('target')"
   ],
   "outputs": [
    {
     "ename": "KeyError",
     "evalue": "'DataSet has no field named raw_chars.'",
     "output_type": "error",
     "traceback": [
      "\u001B[1;31m---------------------------------------------------------------------------\u001B[0m",
      "\u001B[1;31mKeyError\u001B[0m                                  Traceback (most recent call last)",
      "Cell \u001B[1;32mIn[13], line 1\u001B[0m\n\u001B[1;32m----> 1\u001B[0m \u001B[43mdata_train\u001B[49m\u001B[38;5;241;43m.\u001B[39;49m\u001B[43mrename_field\u001B[49m\u001B[43m(\u001B[49m\u001B[38;5;124;43m'\u001B[39;49m\u001B[38;5;124;43mraw_chars\u001B[39;49m\u001B[38;5;124;43m'\u001B[39;49m\u001B[43m,\u001B[49m\u001B[38;5;124;43m'\u001B[39;49m\u001B[38;5;124;43mwords\u001B[39;49m\u001B[38;5;124;43m'\u001B[39;49m\u001B[43m)\u001B[49m\n\u001B[0;32m      2\u001B[0m data_validation\u001B[38;5;241m.\u001B[39mrename_field(\u001B[38;5;124m'\u001B[39m\u001B[38;5;124mraw_chars\u001B[39m\u001B[38;5;124m'\u001B[39m,\u001B[38;5;124m'\u001B[39m\u001B[38;5;124mwords\u001B[39m\u001B[38;5;124m'\u001B[39m)\n\u001B[0;32m      3\u001B[0m data_train\u001B[38;5;241m.\u001B[39mset_input(\u001B[38;5;124m'\u001B[39m\u001B[38;5;124mwords\u001B[39m\u001B[38;5;124m'\u001B[39m)\n",
      "File \u001B[1;32mC:\\ProgramData\\Anaconda3\\envs\\py38\\lib\\site-packages\\fastNLP\\core\\dataset\\dataset.py:577\u001B[0m, in \u001B[0;36mDataSet.rename_field\u001B[1;34m(self, field_name, new_field_name)\u001B[0m\n\u001B[0;32m    575\u001B[0m     \u001B[38;5;28mself\u001B[39m\u001B[38;5;241m.\u001B[39mfield_arrays[new_field_name]\u001B[38;5;241m.\u001B[39mname \u001B[38;5;241m=\u001B[39m new_field_name\n\u001B[0;32m    576\u001B[0m \u001B[38;5;28;01melse\u001B[39;00m:\n\u001B[1;32m--> 577\u001B[0m     \u001B[38;5;28;01mraise\u001B[39;00m \u001B[38;5;167;01mKeyError\u001B[39;00m(\u001B[38;5;124m\"\u001B[39m\u001B[38;5;124mDataSet has no field named \u001B[39m\u001B[38;5;132;01m{}\u001B[39;00m\u001B[38;5;124m.\u001B[39m\u001B[38;5;124m\"\u001B[39m\u001B[38;5;241m.\u001B[39mformat(field_name))\n\u001B[0;32m    578\u001B[0m \u001B[38;5;28;01mreturn\u001B[39;00m \u001B[38;5;28mself\u001B[39m\n",
      "\u001B[1;31mKeyError\u001B[0m: 'DataSet has no field named raw_chars.'"
     ]
    }
   ],
   "metadata": {
    "execution": {
     "iopub.status.busy": "2021-11-26T10:07:48.912556Z",
     "iopub.execute_input": "2021-11-26T10:07:48.912895Z",
     "iopub.status.idle": "2021-11-26T10:07:48.923915Z",
     "shell.execute_reply.started": "2021-11-26T10:07:48.912857Z",
     "shell.execute_reply": "2021-11-26T10:07:48.923065Z"
    },
    "trusted": true,
    "ExecuteTime": {
     "end_time": "2024-03-07T13:05:23.333309Z",
     "start_time": "2024-03-07T13:05:23.296391400Z"
    }
   }
  },
  {
   "cell_type": "code",
   "execution_count": 10,
   "source": [
    "import torch\n",
    "from fastNLP.embeddings import BertEmbedding\n",
    "from fastNLP import Vocabulary\n",
    "embed=BertEmbedding(vocab,model_dir_or_name='cn-wwm', include_cls_sep=True,auto_truncate=True)\n",
    "from fastNLP.models import BertForSequenceClassification\n",
    "model = BertForSequenceClassification(embed,num_labels=3)"
   ],
   "outputs": [
    {
     "ename": "ImportError",
     "evalue": "cannot import name 'BertEmbedding' from 'fastNLP.embeddings' (C:\\ProgramData\\Anaconda3\\envs\\py38\\lib\\site-packages\\fastNLP\\embeddings\\__init__.py)",
     "output_type": "error",
     "traceback": [
      "\u001B[1;31m---------------------------------------------------------------------------\u001B[0m",
      "\u001B[1;31mImportError\u001B[0m                               Traceback (most recent call last)",
      "Cell \u001B[1;32mIn[10], line 2\u001B[0m\n\u001B[0;32m      1\u001B[0m \u001B[38;5;28;01mimport\u001B[39;00m \u001B[38;5;21;01mtorch\u001B[39;00m\n\u001B[1;32m----> 2\u001B[0m \u001B[38;5;28;01mfrom\u001B[39;00m \u001B[38;5;21;01mfastNLP\u001B[39;00m\u001B[38;5;21;01m.\u001B[39;00m\u001B[38;5;21;01membeddings\u001B[39;00m \u001B[38;5;28;01mimport\u001B[39;00m BertEmbedding\n\u001B[0;32m      3\u001B[0m \u001B[38;5;28;01mfrom\u001B[39;00m \u001B[38;5;21;01mfastNLP\u001B[39;00m \u001B[38;5;28;01mimport\u001B[39;00m Vocabulary\n\u001B[0;32m      4\u001B[0m embed\u001B[38;5;241m=\u001B[39mBertEmbedding(vocab,model_dir_or_name\u001B[38;5;241m=\u001B[39m\u001B[38;5;124m'\u001B[39m\u001B[38;5;124mcn-wwm\u001B[39m\u001B[38;5;124m'\u001B[39m, include_cls_sep\u001B[38;5;241m=\u001B[39m\u001B[38;5;28;01mTrue\u001B[39;00m,auto_truncate\u001B[38;5;241m=\u001B[39m\u001B[38;5;28;01mTrue\u001B[39;00m)\n",
      "\u001B[1;31mImportError\u001B[0m: cannot import name 'BertEmbedding' from 'fastNLP.embeddings' (C:\\ProgramData\\Anaconda3\\envs\\py38\\lib\\site-packages\\fastNLP\\embeddings\\__init__.py)"
     ]
    }
   ],
   "metadata": {
    "execution": {
     "iopub.status.busy": "2021-11-26T10:09:14.843743Z",
     "iopub.execute_input": "2021-11-26T10:09:14.844128Z",
     "iopub.status.idle": "2021-11-26T10:09:18.651874Z",
     "shell.execute_reply.started": "2021-11-26T10:09:14.844093Z",
     "shell.execute_reply": "2021-11-26T10:09:18.651099Z"
    },
    "trusted": true,
    "ExecuteTime": {
     "end_time": "2024-03-07T12:56:55.826023500Z",
     "start_time": "2024-03-07T12:56:55.806018700Z"
    }
   }
  },
  {
   "cell_type": "code",
   "execution_count": 19,
   "source": [
    "from fastNLP import Trainer, CrossEntropyLoss, AccuracyMetric, Adam\n",
    "device = 0 if torch.cuda.is_available() else 'cpu'\n",
    "print(device)\n",
    "trainer = Trainer(data_train, model,\n",
    "                  optimizer=Adam(model_params=model.parameters(), lr=2e-5),\n",
    "                  loss=CrossEntropyLoss(), device=device,\n",
    "                  batch_size=8,dev_data=data_validation,\n",
    "                  metrics=AccuracyMetric(), n_epochs=5, print_every=1)\n",
    "trainer.train()"
   ],
   "outputs": [],
   "metadata": {
    "execution": {
     "iopub.status.busy": "2021-11-26T10:11:20.422440Z",
     "iopub.execute_input": "2021-11-26T10:11:20.422875Z",
     "iopub.status.idle": "2021-11-26T12:24:52.667873Z",
     "shell.execute_reply.started": "2021-11-26T10:11:20.422835Z",
     "shell.execute_reply": "2021-11-26T12:24:52.667208Z"
    },
    "trusted": true
   }
  },
  {
   "cell_type": "code",
   "execution_count": 21,
   "source": [
    "def batch_predict(model,data,device):\n",
    "    submission=pd.DataFrame(columns=['Prediction'])\n",
    "#    submission = pd.DataFrame(columns=['ID','Prediction'])\n",
    "    submission=[]\n",
    "    for i in range(len(data)):\n",
    "    #for i in range(5):\n",
    "#         print(data.words[i])\n",
    "        if (i%100==0):print(f\"第{i}次预测完成。\")\n",
    "        model=model.to(device)\n",
    "        tensor = torch.tensor(data['raw_chars'][i]).to(device)\n",
    "        pred = model.predict(tensor.view(1,-1))\n",
    "        prob = pred['pred'].cpu().numpy()[0]\n",
    "        submission.append(prob)\n",
    "    return submission\n",
    "submission=batch_predict(model,data_test,device)\n"
   ],
   "outputs": [],
   "metadata": {
    "execution": {
     "iopub.status.busy": "2021-11-26T12:37:10.255015Z",
     "iopub.execute_input": "2021-11-26T12:37:10.255284Z",
     "iopub.status.idle": "2021-11-26T12:40:16.724132Z",
     "shell.execute_reply.started": "2021-11-26T12:37:10.255252Z",
     "shell.execute_reply": "2021-11-26T12:40:16.723442Z"
    },
    "trusted": true
   }
  },
  {
   "cell_type": "code",
   "execution_count": 23,
   "source": [
    "submission2=[]\n",
    "for i in range(len(submission)):\n",
    "    if(submission[i]==2):submission2.append(0)\n",
    "    elif(submission[i]==0):submission2.append(1)\n",
    "    elif(submission[i]==1):submission2.append(-1)\n",
    "    else:submission2.append(submission[i])\n",
    "\n",
    "np.savetxt('.//result//bert.txt',submission2,fmt='%d',delimiter='\\n')\n",
    "print(\"OK\")"
   ],
   "outputs": [],
   "metadata": {
    "execution": {
     "iopub.status.busy": "2021-11-26T12:46:54.662581Z",
     "iopub.execute_input": "2021-11-26T12:46:54.662839Z",
     "iopub.status.idle": "2021-11-26T12:46:54.701620Z",
     "shell.execute_reply.started": "2021-11-26T12:46:54.662809Z",
     "shell.execute_reply": "2021-11-26T12:46:54.700839Z"
    },
    "trusted": true
   }
  }
 ]
}
